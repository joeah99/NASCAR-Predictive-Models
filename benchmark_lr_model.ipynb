{
 "cells": [
  {
   "cell_type": "code",
   "execution_count": 17,
   "id": "f06236c1",
   "metadata": {},
   "outputs": [],
   "source": [
    "# load data\n",
    "import pandas as pd\n",
    "\n",
    "results_file = \"10-12-results.csv\"\n",
    "misc_file = \"10-12-misc.csv\"\n",
    "stages_file = \"10-12-stages.csv\"\n",
    "practice_file = \"10-11-practice.csv\"\n",
    "\n",
    "results = pd.read_csv(results_file)\n",
    "misc = pd.read_csv(misc_file)\n",
    "stages = pd.read_csv(stages_file)\n",
    "practice = pd.read_csv(practice_file)"
   ]
  },
  {
   "cell_type": "code",
   "execution_count": 18,
   "id": "9a7c7a7f",
   "metadata": {},
   "outputs": [],
   "source": [
    "# aggregation of practice data to eliminate 'duplicate' observations \n",
    "# the only race consistently having multiple practices is the Daytona500, but I think this is best practice for now\n",
    "practice_agg = (\n",
    "    practice.groupby([\"race_id\", \"driver_id\"])\n",
    "    .agg({\n",
    "        \"BestLapRank\" : \"mean\",\n",
    "        \"OverAllAvgRank\" : \"mean\",\n",
    "        \"Con5LapRank\" : \"mean\",\n",
    "        \"Con10LapRank\" : \"mean\",\n",
    "        \"Con15LapRank\" : \"mean\",\n",
    "        \"Con20LapRank\" : \"mean\",\n",
    "        \"Con25LapRank\" : \"mean\",\n",
    "        \"Con30LapRank\" : \"mean\"\n",
    "    })\n",
    ")"
   ]
  },
  {
   "cell_type": "code",
   "execution_count": 19,
   "id": "1500bafa",
   "metadata": {},
   "outputs": [],
   "source": [
    "# pivoting the stage dataset to eliminate 'duplicate' observations\n",
    "# doing this rather than aggregation since I want to preserve stage 1 and stage 2 as seperate parts of the race (not averaged together)\n",
    "stages_wide = stages.pivot_table(\n",
    "    index=[\"race_id\", \"driver_id\"],\n",
    "    columns=\"stage_number\",\n",
    "    values=[\"position\", \"stage_points\"]\n",
    ")\n",
    "\n",
    "stages_wide.columns = [\n",
    "    f\"stage_{col[1]}_{col[0]}\" for col in stages_wide.columns.to_flat_index()\n",
    "]\n",
    "\n",
    "stages_wide = stages_wide.reset_index()"
   ]
  },
  {
   "cell_type": "code",
   "execution_count": 20,
   "id": "1c8a0005",
   "metadata": {},
   "outputs": [],
   "source": [
    "# data merging\n",
    "df = results.copy()\n",
    "df = pd.merge(df, misc, on=[\"race_id\", \"driver_id\"], how=\"outer\", suffixes=(\"\", \"_misc\"))\n",
    "df = pd.merge(df, stages_wide, on=[\"race_id\", \"driver_id\"], how=\"outer\")\n",
    "df = pd.merge(df, practice_agg, on=[\"race_id\", \"driver_id\"], how=\"outer\")"
   ]
  },
  {
   "cell_type": "code",
   "execution_count": 21,
   "id": "68ae0c2e",
   "metadata": {},
   "outputs": [],
   "source": [
    "# shows duplicates (same driver_id AND race_id in multiple rows)\n",
    "# dupes = df[df.duplicated(subset=[\"race_id\", \"driver_id\"], keep=False)]\n",
    "# print(dupes.sort_values([\"race_id\", \"driver_id\"]))\n",
    "# ensure no duplicates\n",
    "assert df.duplicated(subset=[\"race_id\", \"driver_id\"]).sum() == 0"
   ]
  },
  {
   "cell_type": "code",
   "execution_count": 22,
   "id": "75cc3c54",
   "metadata": {},
   "outputs": [],
   "source": [
    "import importlib, rolling_lagging\n",
    "importlib.reload(rolling_lagging)\n",
    "from rolling_lagging import lagging_rolling_generator, reconcile_driver_carteams\n",
    "\n",
    "lagroll_features = [\n",
    "    \"finishing_position\", \"starting_position\", # \"points_position\", \n",
    "    \"stage_1_position\", \"stage_2_position\", \n",
    "    \"mid_ps\", \"closing_ps\", \"avg_ps\", \"BestLapRank\", \"OverAllAvgRank\",\n",
    "    \"laps_completed\", \"laps_led\", \"points_earned\", \"fast_laps\", \"top15_laps\", \"rating\"\n",
    "]\n",
    "\n",
    "# feature engineering, lagging & rolling averages\n",
    "# df, features, sort_list, filter_list, windows_list, suffix, min_periods\n",
    "# directly recent races (momentum):\n",
    "# df = lagging_rolling_generator(df, lagroll_features, [\"driver_id\"], [\"driver_id\"], [3, 5, 10], \"general\", 3)\n",
    "# df = lagging_rolling_generator(df, lagroll_features, [\"team_name\"], [\"team_name\"], [3, 5, 10], \"general_team\", 3)\n",
    "# df = lagging_rolling_generator(df, lagroll_features, [\"team_name\", \"car_number\"], [\"team_name\", \"car_number\"], [3, 5, 10], \"general_carteam\", 3)\n",
    "df = lagging_rolling_generator(df, lagroll_features, [\"driver_id\"], [\"driver_id\"], [5], \"general\", 1)\n",
    "df = lagging_rolling_generator(df, lagroll_features, [\"team_name\"], [\"team_name\"], [3, 5], \"general_team\", 1)\n",
    "df = lagging_rolling_generator(df, lagroll_features, [\"team_name\", \"car_number\"], [\"team_name\", \"car_number\"], [3, 5], \"general_carteam\", 1)\n",
    "# most recent at track type:\n",
    "df = lagging_rolling_generator(df, lagroll_features, [\"driver_id\"], [\"driver_id\", \"track_type\"], [5], \"tracktype\", 1)\n",
    "df = lagging_rolling_generator(df, lagroll_features, [\"team_name\"], [\"team_name\", \"track_type\"], [5], \"tracktype_team\", 1)\n",
    "df = lagging_rolling_generator(df, lagroll_features, [\"team_name\", \"car_number\"], [\"team_name\", \"car_number\", \"track_type\"], [5], \"tracktype_carteam\", 1)\n",
    "# most recent at specific track:\n",
    "df = lagging_rolling_generator(df, lagroll_features, [\"driver_id\"], [\"driver_id\", \"track_name\"], [3], \"track\", 1)\n",
    "df = lagging_rolling_generator(df, lagroll_features, [\"team_name\"], [\"team_name\", \"track_name\"], [3], \"track_team\", 1)\n",
    "df = lagging_rolling_generator(df, lagroll_features, [\"team_name\", \"car_number\"], [\"team_name\", \"car_number\", \"track_name\"], [3], \"track_carteam\", 1)"
   ]
  },
  {
   "cell_type": "code",
   "execution_count": 23,
   "id": "47c355e6",
   "metadata": {},
   "outputs": [],
   "source": [
    "# fill NaNs in lagroll features with carteam or team averages\n",
    "# df = reconcile_driver_carteams(df, lagroll_features, [3, 5, 10], \"general\")\n",
    "df = reconcile_driver_carteams(df, lagroll_features, [5], \"general\")\n",
    "df = reconcile_driver_carteams(df, lagroll_features, [5], \"tracktype\")\n",
    "df = reconcile_driver_carteams(df, lagroll_features, [3], \"track\")"
   ]
  },
  {
   "cell_type": "code",
   "execution_count": 24,
   "id": "2c354192",
   "metadata": {},
   "outputs": [
    {
     "name": "stdout",
     "output_type": "stream",
     "text": [
      "['starting_position', 'BestLapRank', 'OverAllAvgRank', 'finishing_position_lag1_general', 'finishing_position_roll5_general', 'starting_position_lag1_general', 'starting_position_roll5_general', 'stage_1_position_lag1_general', 'stage_1_position_roll5_general', 'stage_2_position_lag1_general', 'stage_2_position_roll5_general', 'mid_ps_lag1_general', 'mid_ps_roll5_general', 'closing_ps_lag1_general', 'closing_ps_roll5_general', 'avg_ps_lag1_general', 'avg_ps_roll5_general', 'BestLapRank_lag1_general', 'BestLapRank_roll5_general', 'OverAllAvgRank_lag1_general', 'OverAllAvgRank_roll5_general', 'laps_completed_lag1_general', 'laps_completed_roll5_general', 'laps_led_lag1_general', 'laps_led_roll5_general', 'points_earned_lag1_general', 'points_earned_roll5_general', 'fast_laps_lag1_general', 'fast_laps_roll5_general', 'top15_laps_lag1_general', 'top15_laps_roll5_general', 'rating_lag1_general', 'rating_roll5_general', 'finishing_position_lag1_tracktype', 'finishing_position_roll5_tracktype', 'starting_position_lag1_tracktype', 'starting_position_roll5_tracktype', 'stage_1_position_lag1_tracktype', 'stage_1_position_roll5_tracktype', 'stage_2_position_lag1_tracktype', 'stage_2_position_roll5_tracktype', 'mid_ps_lag1_tracktype', 'mid_ps_roll5_tracktype', 'closing_ps_lag1_tracktype', 'closing_ps_roll5_tracktype', 'avg_ps_lag1_tracktype', 'avg_ps_roll5_tracktype', 'BestLapRank_lag1_tracktype', 'BestLapRank_roll5_tracktype', 'OverAllAvgRank_lag1_tracktype', 'OverAllAvgRank_roll5_tracktype', 'laps_completed_lag1_tracktype', 'laps_completed_roll5_tracktype', 'laps_led_lag1_tracktype', 'laps_led_roll5_tracktype', 'points_earned_lag1_tracktype', 'points_earned_roll5_tracktype', 'fast_laps_lag1_tracktype', 'fast_laps_roll5_tracktype', 'top15_laps_lag1_tracktype', 'top15_laps_roll5_tracktype', 'rating_lag1_tracktype', 'rating_roll5_tracktype', 'finishing_position_lag1_track', 'finishing_position_roll3_track', 'starting_position_lag1_track', 'starting_position_roll3_track', 'stage_1_position_lag1_track', 'stage_1_position_roll3_track', 'stage_2_position_lag1_track', 'stage_2_position_roll3_track', 'mid_ps_lag1_track', 'mid_ps_roll3_track', 'closing_ps_lag1_track', 'closing_ps_roll3_track', 'avg_ps_lag1_track', 'avg_ps_roll3_track', 'BestLapRank_lag1_track', 'BestLapRank_roll3_track', 'OverAllAvgRank_lag1_track', 'OverAllAvgRank_roll3_track', 'laps_completed_lag1_track', 'laps_completed_roll3_track', 'laps_led_lag1_track', 'laps_led_roll3_track', 'points_earned_lag1_track', 'points_earned_roll3_track', 'fast_laps_lag1_track', 'fast_laps_roll3_track', 'top15_laps_lag1_track', 'top15_laps_roll3_track', 'rating_lag1_track', 'rating_roll3_track']\n"
     ]
    }
   ],
   "source": [
    "# dropping features irrelevant to benchmark model\n",
    "\n",
    "# keeping for visibility when reviewing df as csv\n",
    "keep_cols = [\n",
    "    \"finishing_position\", \"race_id\", \"race_season\", \"race_name\", \"track_name\", \"race_date\",\n",
    "    \"driver_fullname\", \"driver_id\", \"car_number\", \"team_name\", \"car_make\",\n",
    "    \"crew_chief_fullname\", \"finishing_status\"\n",
    "]\n",
    "\n",
    "# remove the actual in-race data per observation but keep P&Q\n",
    "in_race_leakage = [\n",
    "    'finishing_position', 'laps_completed', 'laps_led', 'points_earned', 'playoff_points_earned', \n",
    "    'points_position', 'mid_ps', 'closing_ps', 'avg_ps', 'fast_laps', 'top15_laps', 'rating', \n",
    "    'stage_1_position', 'stage_2_position'\n",
    "]\n",
    "\n",
    "# keep engineered driver features for model, but not team / carteam features (those were only used to fill missing driver stats)\n",
    "lagroll_cols = [\n",
    "    col for col in df.columns\n",
    "    if any(feat in col for feat in lagroll_features)\n",
    "    and \"_team\" not in col\n",
    "    and \"_carteam\" not in col\n",
    "    and col not in in_race_leakage\n",
    "]\n",
    "print(lagroll_cols)\n",
    "\n",
    "final_cols = keep_cols + lagroll_cols\n",
    "df = df[final_cols]\n",
    "# df.to_csv(\"reconciled_driver_teams.csv\", index=False)"
   ]
  },
  {
   "cell_type": "code",
   "execution_count": 25,
   "id": "fbb9ad8a",
   "metadata": {},
   "outputs": [
    {
     "name": "stdout",
     "output_type": "stream",
     "text": [
      "Best alpha: {'ridge__alpha': 1000}\n",
      "starting_position                    1.301448\n",
      "OverAllAvgRank                       0.550548\n",
      "OverAllAvgRank_roll5_general         0.475205\n",
      "BestLapRank                          0.455381\n",
      "laps_led_roll5_tracktype             0.338009\n",
      "starting_position_roll5_general      0.303888\n",
      "mid_ps_roll5_tracktype               0.300909\n",
      "stage_2_position_roll5_general       0.257053\n",
      "mid_ps_lag1_general                  0.248870\n",
      "rating_lag1_general                  0.229422\n",
      "avg_ps_roll3_track                   0.228888\n",
      "stage_1_position_lag1_tracktype      0.222874\n",
      "avg_ps_roll5_tracktype               0.222150\n",
      "OverAllAvgRank_roll3_track           0.205136\n",
      "finishing_position_roll3_track       0.190681\n",
      "BestLapRank_roll5_general            0.179840\n",
      "avg_ps_roll5_general                 0.173963\n",
      "closing_ps_lag1_general              0.157555\n",
      "starting_position_roll5_tracktype    0.155986\n",
      "starting_position_lag1_general       0.144770\n",
      "dtype: float64\n",
      "\n",
      "Spearman mean: 0.433\n",
      "Spearman median: 0.453\n",
      "Number of races evaluated: 141\n"
     ]
    },
    {
     "name": "stderr",
     "output_type": "stream",
     "text": [
      "C:\\Users\\joeah\\AppData\\Local\\Temp\\ipykernel_16944\\2951885294.py:53: FutureWarning: DataFrameGroupBy.apply operated on the grouping columns. This behavior is deprecated, and in a future version of pandas the grouping columns will be excluded from the operation. Either pass `include_groups=False` to exclude the groupings or explicitly select the grouping columns after groupby to silence this warning.\n",
      "  .apply(race_spearman)\n"
     ]
    }
   ],
   "source": [
    "from sklearn.impute import SimpleImputer\n",
    "from sklearn.preprocessing import StandardScaler\n",
    "from sklearn.model_selection import GridSearchCV, GroupKFold\n",
    "from sklearn.linear_model import Ridge\n",
    "from sklearn.pipeline import Pipeline\n",
    "from scipy.stats import spearmanr\n",
    "import numpy as np\n",
    "\n",
    "# Features and target\n",
    "df_train = df.dropna(subset=[\"finishing_position\"]).copy()\n",
    "X = df_train[lagroll_cols]\n",
    "y = df_train[\"finishing_position\"]\n",
    "groups = df_train[\"race_id\"]\n",
    "\n",
    "# Define pipeline: impute -> scale -> model\n",
    "pipe = Pipeline([\n",
    "    (\"imputer\", SimpleImputer(strategy=\"mean\")),\n",
    "    (\"scaler\", StandardScaler()),\n",
    "    (\"ridge\", Ridge())\n",
    "])\n",
    "\n",
    "# Parameter grid for alpha\n",
    "param_grid = {\"ridge__alpha\": [1000, 1400, 1600, 1800, 2000]}\n",
    "\n",
    "# Grouped CV\n",
    "cv = GroupKFold(n_splits=5)\n",
    "\n",
    "# Grid search\n",
    "grid = GridSearchCV(pipe, param_grid, scoring=\"neg_mean_squared_error\", cv=cv)\n",
    "grid.fit(X, y, groups=groups)\n",
    "\n",
    "print(\"Best alpha:\", grid.best_params_)\n",
    "best_model = grid.best_estimator_\n",
    "\n",
    "# Get coefficients\n",
    "ridge_model = best_model.named_steps[\"ridge\"]\n",
    "coef = pd.Series(ridge_model.coef_, index=lagroll_cols)\n",
    "print(coef.sort_values(ascending=False).head(20))\n",
    "\n",
    "# Apply to full df\n",
    "df[\"weighted_score_lr\"] = best_model.predict(df[lagroll_cols])\n",
    "df[\"pred_rank_lr\"] = df.groupby(\"race_id\")[\"weighted_score_lr\"].rank(method=\"min\", ascending=True)  \n",
    "# ascending=True because lower predicted finish = better (P1)\n",
    "\n",
    "def race_spearman(g):\n",
    "    if g[\"weighted_score_lr\"].nunique() < 2:\n",
    "        return np.nan\n",
    "    return spearmanr(g[\"weighted_score_lr\"], g[\"finishing_position\"]).correlation\n",
    "\n",
    "race_corrs = (\n",
    "    df.dropna(subset=[\"finishing_position\"])\n",
    "      .groupby(\"race_id\")\n",
    "      .apply(race_spearman)\n",
    ")\n",
    "\n",
    "print(\"\\nSpearman mean:\", race_corrs.mean().round(3))\n",
    "print(\"Spearman median:\", race_corrs.median().round(3))\n",
    "print(\"Number of races evaluated:\", race_corrs.notna().sum())"
   ]
  },
  {
   "cell_type": "code",
   "execution_count": 26,
   "id": "87b2a69b",
   "metadata": {},
   "outputs": [
    {
     "name": "stdout",
     "output_type": "stream",
     "text": [
      "Weighted model for race 5582:\n",
      "Average (mean) error: 9.05\n",
      "Median error: 8.00\n",
      "      race_id      driver_fullname  pred_rank_lr  finishing_position\n",
      "5222     5582        William Byron           1.0                36.0\n",
      "5208     5582          Kyle Larson           2.0                 2.0\n",
      "5219     5582     Christopher Bell           3.0                 3.0\n",
      "5212     5582        Tyler Reddick           4.0                 5.0\n",
      "5211     5582        Chase Elliott           5.0                18.0\n",
      "5195     5582         Denny Hamlin           6.0                 1.0\n",
      "5207     5582        Bubba Wallace           7.0                22.0\n",
      "5204     5582        Ross Chastain           8.0                23.0\n",
      "5224     5582        Chase Briscoe           9.0                 4.0\n",
      "5203     5582       Chris Buescher          10.0                12.0\n",
      "5230     5582             Ty Gibbs          11.0                34.0\n",
      "5206     5582          Ryan Blaney          12.0                38.0\n",
      "5209     5582          Alex Bowman          13.0                 7.0\n",
      "5200     5582          Joey Logano          14.0                 6.0\n",
      "5198     5582      AJ Allmendinger          15.0                19.0\n",
      "5229     5582       Carson Hocevar          16.0                32.0\n",
      "5199     5582     Michael McDowell          17.0                16.0\n",
      "5216     5582        Daniel Suárez          18.0                20.0\n",
      "5213     5582          Ryan Preece          19.0                 9.0\n",
      "5227     5582           Zane Smith          20.0                24.0\n",
      "5223     5582         Noah Gragson          21.0                13.0\n",
      "5202     5582   Ricky Stenhouse Jr          22.0                14.0\n",
      "5210     5582           Erik Jones          23.0                15.0\n",
      "5220     5582         Justin Haley          24.0                27.0\n",
      "5231     5582  Shane Van Gisbergen          25.0                33.0\n",
      "5214     5582     John H. Nemechek          26.0                29.0\n",
      "5196     5582      Brad Keselowski          27.0                10.0\n",
      "5215     5582          Cole Custer          28.0                28.0\n",
      "5225     5582       Todd Gilliland          29.0                21.0\n",
      "5194     5582           Kyle Busch          30.0                 8.0\n",
      "5221     5582       Austin Cindric          31.0                11.0\n",
      "5217     5582           Josh Berry          32.0                26.0\n",
      "5226     5582         Riley Herbst          33.0                17.0\n",
      "5201     5582        Austin Dillon          34.0                25.0\n",
      "5205     5582            Ty Dillon          35.0                37.0\n",
      "5218     5582            Cody Ware          36.0                35.0\n",
      "5228     5582      Katherine Legge          37.0                31.0\n",
      "5197     5582             JJ Yeley          38.0                30.0\n"
     ]
    }
   ],
   "source": [
    "race_id_to_check = 5582 \n",
    "\n",
    "race_df = df[df[\"race_id\"] == race_id_to_check].copy()\n",
    "\n",
    "# compute absolute error between predicted rank and actual finish\n",
    "race_df[\"abs_error_weighted\"] = (race_df[\"pred_rank_lr\"] - race_df[\"finishing_position\"]).abs()\n",
    "\n",
    "# compute summary metrics\n",
    "mean_error = race_df[\"abs_error_weighted\"].mean()\n",
    "median_error = race_df[\"abs_error_weighted\"].median()\n",
    "\n",
    "print(f\"Weighted model for race {race_id_to_check}:\")\n",
    "print(f\"Average (mean) error: {mean_error:.2f}\")\n",
    "print(f\"Median error: {median_error:.2f}\")\n",
    "\n",
    "# Sort by predicted rank (best at the top)\n",
    "race_df = race_df.sort_values(\"pred_rank_lr\")\n",
    "\n",
    "# Select useful columns to display\n",
    "cols_to_show = [\n",
    "    \"race_id\",\n",
    "    \"driver_fullname\",\n",
    "    # \"team_name\",\n",
    "    # \"weighted_score_lr_flipped\",\n",
    "    \"pred_rank_lr\",\n",
    "    \"finishing_position\"  # actual for comparison\n",
    "]\n",
    "\n",
    "print(race_df[cols_to_show].head(40))\n",
    "race_df.to_csv(\"race_db.csv\", index=False)"
   ]
  },
  {
   "cell_type": "code",
   "execution_count": 27,
   "id": "6781be53",
   "metadata": {},
   "outputs": [
    {
     "name": "stdout",
     "output_type": "stream",
     "text": [
      "['finishing_position', 'race_id', 'race_season', 'race_name', 'track_name', 'race_date', 'driver_fullname', 'driver_id', 'car_number', 'team_name', 'car_make', 'crew_chief_fullname', 'finishing_status', 'starting_position', 'BestLapRank', 'OverAllAvgRank', 'finishing_position_lag1_general', 'finishing_position_roll5_general', 'starting_position_lag1_general', 'starting_position_roll5_general', 'stage_1_position_lag1_general', 'stage_1_position_roll5_general', 'stage_2_position_lag1_general', 'stage_2_position_roll5_general', 'mid_ps_lag1_general', 'mid_ps_roll5_general', 'closing_ps_lag1_general', 'closing_ps_roll5_general', 'avg_ps_lag1_general', 'avg_ps_roll5_general', 'BestLapRank_lag1_general', 'BestLapRank_roll5_general', 'OverAllAvgRank_lag1_general', 'OverAllAvgRank_roll5_general', 'laps_completed_lag1_general', 'laps_completed_roll5_general', 'laps_led_lag1_general', 'laps_led_roll5_general', 'points_earned_lag1_general', 'points_earned_roll5_general', 'fast_laps_lag1_general', 'fast_laps_roll5_general', 'top15_laps_lag1_general', 'top15_laps_roll5_general', 'rating_lag1_general', 'rating_roll5_general', 'finishing_position_lag1_tracktype', 'finishing_position_roll5_tracktype', 'starting_position_lag1_tracktype', 'starting_position_roll5_tracktype', 'stage_1_position_lag1_tracktype', 'stage_1_position_roll5_tracktype', 'stage_2_position_lag1_tracktype', 'stage_2_position_roll5_tracktype', 'mid_ps_lag1_tracktype', 'mid_ps_roll5_tracktype', 'closing_ps_lag1_tracktype', 'closing_ps_roll5_tracktype', 'avg_ps_lag1_tracktype', 'avg_ps_roll5_tracktype', 'BestLapRank_lag1_tracktype', 'BestLapRank_roll5_tracktype', 'OverAllAvgRank_lag1_tracktype', 'OverAllAvgRank_roll5_tracktype', 'laps_completed_lag1_tracktype', 'laps_completed_roll5_tracktype', 'laps_led_lag1_tracktype', 'laps_led_roll5_tracktype', 'points_earned_lag1_tracktype', 'points_earned_roll5_tracktype', 'fast_laps_lag1_tracktype', 'fast_laps_roll5_tracktype', 'top15_laps_lag1_tracktype', 'top15_laps_roll5_tracktype', 'rating_lag1_tracktype', 'rating_roll5_tracktype', 'finishing_position_lag1_track', 'finishing_position_roll3_track', 'starting_position_lag1_track', 'starting_position_roll3_track', 'stage_1_position_lag1_track', 'stage_1_position_roll3_track', 'stage_2_position_lag1_track', 'stage_2_position_roll3_track', 'mid_ps_lag1_track', 'mid_ps_roll3_track', 'closing_ps_lag1_track', 'closing_ps_roll3_track', 'avg_ps_lag1_track', 'avg_ps_roll3_track', 'BestLapRank_lag1_track', 'BestLapRank_roll3_track', 'OverAllAvgRank_lag1_track', 'OverAllAvgRank_roll3_track', 'laps_completed_lag1_track', 'laps_completed_roll3_track', 'laps_led_lag1_track', 'laps_led_roll3_track', 'points_earned_lag1_track', 'points_earned_roll3_track', 'fast_laps_lag1_track', 'fast_laps_roll3_track', 'top15_laps_lag1_track', 'top15_laps_roll3_track', 'rating_lag1_track', 'rating_roll3_track', 'weighted_score_lr', 'pred_rank_lr', 'track_name_ri', 'pred_finish_ri', 'car_number_ri', 'driver', 'formatted_driver']\n"
     ]
    }
   ],
   "source": [
    "racing_insights_file = \"10-12-racing-insights.csv\"\n",
    "racing_insights = pd.read_csv(racing_insights_file)\n",
    "\n",
    "racing_insights[\"race_id\"] = racing_insights[\"race_id\"].astype(df[\"race_id\"].dtype)\n",
    "racing_insights[\"driver_id\"] = racing_insights[\"driver_id\"].astype(df[\"driver_id\"].dtype)\n",
    "\n",
    "df = pd.merge(df, racing_insights, on=[\"race_id\", \"driver_id\"], how=\"outer\", suffixes=(\"\", \"_racing_insights\"))\n",
    "\n",
    "assert df.duplicated(subset=[\"race_id\", \"driver_id\"]).sum() == 0\n",
    "\n",
    "df_2025 = df[df[\"race_season\"] == 2025].copy()\n",
    "\n",
    "print(df_2025.columns.tolist())"
   ]
  },
  {
   "cell_type": "code",
   "execution_count": 28,
   "id": "00f2337f",
   "metadata": {},
   "outputs": [
    {
     "name": "stderr",
     "output_type": "stream",
     "text": [
      "C:\\Users\\joeah\\AppData\\Local\\Temp\\ipykernel_16944\\2115154869.py:27: FutureWarning: DataFrameGroupBy.apply operated on the grouping columns. This behavior is deprecated, and in a future version of pandas the grouping columns will be excluded from the operation. Either pass `include_groups=False` to exclude the groupings or explicitly select the grouping columns after groupby to silence this warning.\n",
      "  .apply(race_spearman_corrs)\n"
     ]
    }
   ],
   "source": [
    "from scipy.stats import spearmanr\n",
    "import numpy as np\n",
    "import pandas as pd\n",
    "\n",
    "def race_spearman_corrs(g):\n",
    "    result = {}\n",
    "    \n",
    "    # Only calculate if we have at least 2 drivers\n",
    "    if g[\"finishing_position\"].nunique() > 1:\n",
    "        # Your model correlation\n",
    "        if g[\"pred_rank_lr\"].nunique() > 1:\n",
    "            result[\"my_model_corr\"] = spearmanr(g[\"pred_rank_lr\"], g[\"finishing_position\"]).correlation\n",
    "        else:\n",
    "            result[\"my_model_corr\"] = np.nan\n",
    "        \n",
    "        # Racing Insights correlation\n",
    "        if g[\"pred_finish_ri\"].nunique() > 1:\n",
    "            result[\"ri_corr\"] = spearmanr(g[\"pred_finish_ri\"], g[\"finishing_position\"]).correlation\n",
    "        else:\n",
    "            result[\"pred_finish_ri\"] = np.nan\n",
    "    \n",
    "    return pd.Series(result)\n",
    "\n",
    "race_corrs_2025 = (\n",
    "    df_2025.dropna(subset=[\"finishing_position\"])\n",
    "    .groupby(\"race_id\")\n",
    "    .apply(race_spearman_corrs)\n",
    ")"
   ]
  },
  {
   "cell_type": "code",
   "execution_count": 29,
   "id": "6ef3bd7f",
   "metadata": {},
   "outputs": [
    {
     "name": "stdout",
     "output_type": "stream",
     "text": [
      "Race-by-race Spearman Correlations (2025):\n",
      "         my_model_corr  ri_corr\n",
      "race_id                        \n",
      "5546             0.315    0.208\n",
      "5547             0.233    0.243\n",
      "5548             0.308    0.359\n",
      "5549             0.309    0.403\n",
      "5550             0.689    0.721\n",
      "5551             0.385    0.479\n",
      "5552             0.386    0.441\n",
      "5553             0.652    0.579\n",
      "5554            -0.010    0.042\n",
      "5555             0.173    0.301\n",
      "5556             0.619    0.555\n",
      "5557             0.303    0.220\n",
      "5558             0.443    0.427\n",
      "5563             0.255    0.285\n",
      "5564             0.732    0.712\n",
      "5565             0.438    0.451\n",
      "5566             0.698    0.633\n",
      "5567             0.630    0.691\n",
      "5568             0.674    0.665\n",
      "5569             0.371    0.412\n",
      "5570             0.532    0.518\n",
      "5571             0.451    0.413\n",
      "5572             0.364    0.309\n",
      "5573             0.433    0.484\n",
      "5574             0.093    0.099\n",
      "5575             0.518    0.472\n",
      "5576            -0.030   -0.185\n",
      "5577             0.564    0.598\n",
      "5578             0.224    0.227\n",
      "5579             0.535    0.504\n",
      "5581             0.688    0.691\n",
      "5582             0.389    0.482\n",
      "5583             0.556    0.459\n",
      "\n",
      "Average correlations across 2025:\n",
      "My model: 0.422\n",
      "Racing Insights: 0.421\n"
     ]
    }
   ],
   "source": [
    "print(\"Race-by-race Spearman Correlations (2025):\")\n",
    "print(race_corrs_2025.round(3))\n",
    "\n",
    "print(\"\\nAverage correlations across 2025:\")\n",
    "print(\"My model:\", race_corrs_2025[\"my_model_corr\"].mean().round(3))\n",
    "print(\"Racing Insights:\", race_corrs_2025[\"ri_corr\"].mean().round(3))"
   ]
  },
  {
   "cell_type": "code",
   "execution_count": 30,
   "id": "3aa384ef",
   "metadata": {},
   "outputs": [
    {
     "name": "stdout",
     "output_type": "stream",
     "text": [
      "\n",
      "Mean Absolute Error (lower = better):\n",
      "My model: 9.2\n",
      "Racing Insights: 9.17\n"
     ]
    }
   ],
   "source": [
    "df_2025[\"abs_error_my_model\"] = (df_2025[\"pred_rank_lr\"] - df_2025[\"finishing_position\"]).abs()\n",
    "df_2025[\"abs_error_ri\"] = (df_2025[\"pred_finish_ri\"] - df_2025[\"finishing_position\"]).abs()\n",
    "\n",
    "print(\"\\nMean Absolute Error (lower = better):\")\n",
    "print(\"My model:\", df_2025[\"abs_error_my_model\"].mean().round(2))\n",
    "print(\"Racing Insights:\", df_2025[\"abs_error_ri\"].mean().round(2))"
   ]
  }
 ],
 "metadata": {
  "kernelspec": {
   "display_name": "Python 3",
   "language": "python",
   "name": "python3"
  },
  "language_info": {
   "codemirror_mode": {
    "name": "ipython",
    "version": 3
   },
   "file_extension": ".py",
   "mimetype": "text/x-python",
   "name": "python",
   "nbconvert_exporter": "python",
   "pygments_lexer": "ipython3",
   "version": "3.13.4"
  }
 },
 "nbformat": 4,
 "nbformat_minor": 5
}
