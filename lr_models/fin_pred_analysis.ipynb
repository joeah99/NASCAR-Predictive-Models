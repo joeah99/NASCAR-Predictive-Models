{
 "cells": [
  {
   "cell_type": "code",
   "execution_count": 35,
   "id": "40942b6b",
   "metadata": {},
   "outputs": [
    {
     "data": {
      "application/vnd.jupyter.widget-view+json": {
       "model_id": "4c283f5834be4ce69fa38727c52c927e",
       "version_major": 2,
       "version_minor": 0
      },
      "text/plain": [
       "Dropdown(description='Series:', options=('Cup', 'Xfinity', 'Trucks'), value='Cup')"
      ]
     },
     "metadata": {},
     "output_type": "display_data"
    },
    {
     "data": {
      "application/vnd.jupyter.widget-view+json": {
       "model_id": "b267fe1eab39468db79e496d80f25315",
       "version_major": 2,
       "version_minor": 0
      },
      "text/plain": [
       "Dropdown(description='Prediction Type:', options=('Finishing Position', 'Points Earned in Race'), value='Finis…"
      ]
     },
     "metadata": {},
     "output_type": "display_data"
    }
   ],
   "source": [
    "import ipywidgets as widgets\n",
    "from IPython.display import display\n",
    "\n",
    "series_dropdown = widgets.Dropdown(\n",
    "    options=[\"Cup\", \"Xfinity\", \"Trucks\"],\n",
    "    description=\"Series:\"\n",
    ")\n",
    "display(series_dropdown)\n",
    "\n",
    "prediction_type_dropdown = widgets.Dropdown(\n",
    "    options=[\"Finishing Position\", \"Points Earned in Race\"],\n",
    "    description=\"Prediction Type:\"\n",
    ")\n",
    "display(prediction_type_dropdown)"
   ]
  },
  {
   "cell_type": "code",
   "execution_count": 36,
   "id": "84be505d",
   "metadata": {},
   "outputs": [
    {
     "data": {
      "application/vnd.jupyter.widget-view+json": {
       "model_id": "1596719fd74e44b2b8abb0a3bb797386",
       "version_major": 2,
       "version_minor": 0
      },
      "text/plain": [
       "Dropdown(description='Race ID:', options=(5534, 5535, 5537, 5538, 5539, 5537), value=5534)"
      ]
     },
     "metadata": {},
     "output_type": "display_data"
    }
   ],
   "source": [
    "# to be updtated with full race name dictionary soon for better UX\n",
    "# Xfinity and Truck data not implemented yet, but structure is in place\n",
    "if series_dropdown.value == \"Cup\":\n",
    "    race_id_dropdown = widgets.Dropdown(\n",
    "        options=[5575, 5577, 5578, 5567, 5579, 5581, 5582, 5580, 5584],\n",
    "        description=\"Race ID:\"\n",
    "    )\n",
    "    display(race_id_dropdown)\n",
    "\n",
    "elif series_dropdown.value == \"Xfinity\":\n",
    "    race_id_dropdown = widgets.Dropdown(\n",
    "        options=[5534, 5535, 5537, 5538, 5539, 5537],\n",
    "        description=\"Race ID:\"\n",
    "    )\n",
    "    display(race_id_dropdown)\n",
    "\n",
    "elif series_dropdown.value == \"Trucks\":\n",
    "    race_id_dropdown = widgets.Dropdown(\n",
    "        options=[5493, 5502, 5508, 5505, 5504],\n",
    "        description=\"Race ID:\"\n",
    "    )\n",
    "    display(race_id_dropdown)\n",
    "\n",
    "else: \n",
    "    print(\"An error selecting series occurred.\")"
   ]
  },
  {
   "cell_type": "code",
   "execution_count": 37,
   "id": "786db780",
   "metadata": {},
   "outputs": [],
   "source": [
    "import pandas as pd\n",
    "import sys\n",
    "from pathlib import Path\n",
    "\n",
    "# # make parent folder importable\n",
    "parent_folder = Path.cwd().parent\n",
    "sys.path.append(str(parent_folder))\n",
    "\n",
    "# import config\n",
    "from config import DATA_DIR\n",
    "\n",
    "if prediction_type_dropdown.value == \"Finishing Position\":\n",
    "    df = pd.read_csv(\"lr_analysis_ready_finishing.csv\")\n",
    "    target_col = \"finishing_position\"\n",
    "elif prediction_type_dropdown.value == \"Points Earned in Race\":\n",
    "    df = pd.read_csv(\"lr_analysis_ready_points.csv\")\n",
    "    target_col = \"points_earned_rank\"\n",
    "else:\n",
    "    print(\"An error selecting prediction type occurred.\")"
   ]
  },
  {
   "cell_type": "code",
   "execution_count": 39,
   "id": "aaed2d89",
   "metadata": {},
   "outputs": [
    {
     "name": "stdout",
     "output_type": "stream",
     "text": [
      "Weighted model for race 5538:\n",
      "Mean absolute error: 7.52\n",
      "Median absolute error: 6.00\n",
      "      race_id    driver_fullname  pred_rank_lr  finishing_position\n",
      "1459     5538     Connor Zilisch           1.0                 1.0\n",
      "900      5538          Sam Mayer           2.0                19.0\n",
      "1136     5538      Carson Kvapil           3.0                15.0\n",
      "1233     5538    Justin Allgaier           4.0                 8.0\n",
      "3135     5538         Jesse Love           5.0                12.0\n",
      "513      5538   Nicholas Sanchez           6.0                 9.0\n",
      "3235     5538        Austin Hill           7.0                28.0\n",
      "1330     5538        Sammy Smith           8.0                 3.0\n",
      "1754     5538      Aric Almirola           9.0                14.0\n",
      "1851     5538      Brandon Jones          10.0                18.0\n",
      "1882     5538        Taylor Gray          11.0                13.0\n",
      "869      5538      Sheldon Creed          12.0                11.0\n",
      "1657     5538   William Sawalich          13.0                 7.0\n",
      "2432     5538      Daniel Hemric          14.0                17.0\n",
      "2529     5538    Christian Eckes          15.0                10.0\n",
      "2263     5538       Austin Green          16.0                 2.0\n",
      "937      5538          Corey Day          17.0                22.0\n",
      "94       5538    Harrison Burton          18.0                34.0\n",
      "3484     5538          Kaz Grala          19.0                 4.0\n",
      "1408     5538      Connor Mosack          20.0                 5.0\n",
      "2981     5538          Ryan Sieg          21.0                20.0\n",
      "3334     5538         Alex Labbe          22.0                30.0\n",
      "292      5538      Brennan Poole          23.0                31.0\n",
      "3580     5538      Dean Thompson          24.0                35.0\n",
      "2121     5538         Jeb Burton          25.0                 6.0\n",
      "3747     5538   Matt DiBenedetto          26.0                32.0\n",
      "766      5538       Josh Bilicki          27.0                21.0\n",
      "3811     5538    Anthony Alfredo          28.0                23.0\n",
      "127      5538    Parker Retzlaff          29.0                16.0\n",
      "2335     5538         Daniel Dye          30.0                36.0\n",
      "1556     5538    Jeremy Clements          31.0                27.0\n",
      "2257     5538   Andrew Patterson          32.0                42.0\n",
      "772      5538    Leland Honeyman          33.0                26.0\n",
      "2218     5538     Blaine Perkins          34.0                29.0\n",
      "374      5538      Josh Williams          35.0                37.0\n",
      "562      5538  Thomas Annunziata          36.0                40.0\n",
      "736      5538         Ryan Ellis          37.0                24.0\n",
      "2734     5538     Preston Pardus          38.0                38.0\n",
      "2023     5538         Sage Karam          39.0                25.0\n",
      "2814     5538          Kyle Sieg          40.0                33.0\n",
      "3431     5538   Garrett Smithley          41.0                39.0\n",
      "1979     5538      Austin J Hill          42.0                41.0\n"
     ]
    }
   ],
   "source": [
    "# race_id_to_check = 5580 \n",
    "race_id_to_check = race_id_dropdown.value\n",
    "\n",
    "race_df = df[df[\"race_id\"] == race_id_to_check].copy()\n",
    "\n",
    "# compute absolute error between predicted rank and actual finish\n",
    "race_df[\"abs_error_weighted\"] = (race_df[\"pred_rank_lr\"] - race_df[target_col]).abs()\n",
    "\n",
    "# compute summary metrics\n",
    "mean_error = race_df[\"abs_error_weighted\"].mean()\n",
    "median_error = race_df[\"abs_error_weighted\"].median()\n",
    "\n",
    "print(f\"Weighted model for race {race_id_to_check}:\")\n",
    "print(f\"Mean absolute error: {mean_error:.2f}\")\n",
    "print(f\"Median absolute error: {median_error:.2f}\")\n",
    "\n",
    "# Sort by predicted rank (best at the top)\n",
    "race_df = race_df.sort_values(\"pred_rank_lr\")\n",
    "\n",
    "# Select useful columns to display\n",
    "cols_to_show = [\n",
    "    \"race_id\",\n",
    "    \"driver_fullname\",\n",
    "    # \"team_name\",\n",
    "    # \"weighted_score_lr_flipped\",\n",
    "    \"pred_rank_lr\",\n",
    "    target_col  # actual for comparison\n",
    "]\n",
    "\n",
    "print(race_df[cols_to_show].head(42))\n",
    "# race_df.to_csv(\"race_db.csv\", index=False)"
   ]
  },
  {
   "cell_type": "code",
   "execution_count": 27,
   "id": "f8f78094",
   "metadata": {},
   "outputs": [],
   "source": [
    "if target_col == \"finishing_position\" and series_dropdown.value == \"Cup\":    \n",
    "    racing_insights_file = DATA_DIR / \"10-20-racing-insights.csv\"\n",
    "    racing_insights = pd.read_csv(racing_insights_file)\n",
    "\n",
    "    racing_insights[\"race_id\"] = racing_insights[\"race_id\"].astype(df[\"race_id\"].dtype)\n",
    "    racing_insights[\"driver_id\"] = racing_insights[\"driver_id\"].astype(df[\"driver_id\"].dtype)\n",
    "\n",
    "    df = pd.merge(df, racing_insights, on=[\"race_id\", \"driver_id\"], how=\"outer\", suffixes=(\"\", \"_racing_insights\"))\n",
    "\n",
    "    assert df.duplicated(subset=[\"race_id\", \"driver_id\"]).sum() == 0\n",
    "\n",
    "    df_2025 = df[df[\"race_season\"] == 2025].copy()\n",
    "\n",
    "    print(df_2025.columns.tolist())\n",
    "\n",
    "else:\n",
    "    df_2025 = df[df[\"race_season\"] == 2025].copy()"
   ]
  },
  {
   "cell_type": "code",
   "execution_count": 28,
   "id": "083f16fb",
   "metadata": {},
   "outputs": [
    {
     "name": "stdout",
     "output_type": "stream",
     "text": [
      "\n",
      "Mean Absolute Error (2025):\n",
      "My model: 6.45\n"
     ]
    }
   ],
   "source": [
    "df_2025[\"abs_error_my_model\"] = (df_2025[\"pred_rank_lr\"] - df_2025[target_col]).abs()\n",
    "if target_col == \"finishing_position\" and series_dropdown.value == \"Cup\":\n",
    "    df_2025[\"abs_error_ri\"] = (df_2025[\"pred_finish_ri\"] - df_2025[\"finishing_position\"]).abs()\n",
    "\n",
    "print(\"\\nMean Absolute Error (2025):\")\n",
    "print(\"My model:\", df_2025[\"abs_error_my_model\"].mean().round(2))\n",
    "if target_col == \"finishing_position\" and series_dropdown.value == \"Cup\":\n",
    "    print(\"Racing Insights:\", df_2025[\"abs_error_ri\"].mean().round(2))"
   ]
  },
  {
   "cell_type": "code",
   "execution_count": 29,
   "id": "10f47dec",
   "metadata": {},
   "outputs": [
    {
     "name": "stderr",
     "output_type": "stream",
     "text": [
      "C:\\Users\\joeah\\AppData\\Local\\Temp\\ipykernel_1652\\1946305589.py:28: FutureWarning: DataFrameGroupBy.apply operated on the grouping columns. This behavior is deprecated, and in a future version of pandas the grouping columns will be excluded from the operation. Either pass `include_groups=False` to exclude the groupings or explicitly select the grouping columns after groupby to silence this warning.\n",
      "  .apply(race_spearman_corrs)\n"
     ]
    }
   ],
   "source": [
    "from scipy.stats import spearmanr\n",
    "import numpy as np\n",
    "import pandas as pd\n",
    "\n",
    "def race_spearman_corrs(g):\n",
    "    result = {}\n",
    "    \n",
    "    # Only calculate if we have at least 2 drivers\n",
    "    if g[target_col].nunique() > 1:\n",
    "        # Your model correlation\n",
    "        if g[\"pred_rank_lr\"].nunique() > 1:\n",
    "            result[\"my_model_corr\"] = spearmanr(g[\"pred_rank_lr\"], g[target_col]).correlation\n",
    "        else:\n",
    "            result[\"my_model_corr\"] = np.nan\n",
    "        \n",
    "        # Racing Insights correlation\n",
    "        if target_col == \"finishing_position\" and series_dropdown.value == \"Cup\":\n",
    "            if g[\"pred_finish_ri\"].nunique() > 1:\n",
    "                result[\"ri_corr\"] = spearmanr(g[\"pred_finish_ri\"], g[\"finishing_position\"]).correlation\n",
    "            else:\n",
    "                result[\"pred_finish_ri\"] = np.nan\n",
    "    \n",
    "    return pd.Series(result)\n",
    "\n",
    "race_corrs_2025 = (\n",
    "    df_2025.dropna(subset=[target_col])\n",
    "    .groupby(\"race_id\")\n",
    "    .apply(race_spearman_corrs)\n",
    ")"
   ]
  },
  {
   "cell_type": "code",
   "execution_count": 30,
   "id": "9430a705",
   "metadata": {},
   "outputs": [
    {
     "name": "stdout",
     "output_type": "stream",
     "text": [
      "Race-by-race Spearman Correlations (2025):\n",
      "         my_model_corr\n",
      "race_id               \n",
      "5485             0.373\n",
      "5486             0.407\n",
      "5487             0.765\n",
      "5488             0.633\n",
      "5489             0.700\n",
      "5490             0.623\n",
      "5491             0.260\n",
      "5492             0.527\n",
      "5493             0.577\n",
      "5494             0.845\n",
      "5495             0.590\n",
      "5496             0.489\n",
      "5497             0.801\n",
      "5498             0.652\n",
      "5499             0.825\n",
      "5500             0.748\n",
      "5501             0.290\n",
      "5502             0.670\n",
      "5503             0.322\n",
      "5504             0.597\n",
      "5505             0.637\n",
      "5508             0.808\n",
      "5509             0.679\n",
      "\n",
      "Average correlations across 2025:\n",
      "My model: 0.601\n"
     ]
    }
   ],
   "source": [
    "print(\"Race-by-race Spearman Correlations (2025):\")\n",
    "print(race_corrs_2025.round(3))\n",
    "\n",
    "print(\"\\nAverage correlations across 2025:\")\n",
    "print(\"My model:\", race_corrs_2025[\"my_model_corr\"].mean().round(3))\n",
    "if target_col == \"finishing_position\" and series_dropdown.value == \"Cup\":\n",
    "    print(\"Racing Insights:\", race_corrs_2025[\"ri_corr\"].mean().round(3))"
   ]
  }
 ],
 "metadata": {
  "kernelspec": {
   "display_name": "Python 3",
   "language": "python",
   "name": "python3"
  },
  "language_info": {
   "codemirror_mode": {
    "name": "ipython",
    "version": 3
   },
   "file_extension": ".py",
   "mimetype": "text/x-python",
   "name": "python",
   "nbconvert_exporter": "python",
   "pygments_lexer": "ipython3",
   "version": "3.13.4"
  }
 },
 "nbformat": 4,
 "nbformat_minor": 5
}
