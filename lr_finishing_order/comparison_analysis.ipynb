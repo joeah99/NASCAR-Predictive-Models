{
 "cells": [
  {
   "cell_type": "code",
   "execution_count": 1,
   "id": "786db780",
   "metadata": {},
   "outputs": [],
   "source": [
    "import pandas as pd\n",
    "import sys\n",
    "from pathlib import Path\n",
    "\n",
    "# # make parent folder importable\n",
    "parent_folder = Path.cwd().parent\n",
    "sys.path.append(str(parent_folder))\n",
    "\n",
    "# import config\n",
    "from config import DATA_DIR\n",
    "\n",
    "df = pd.read_csv(\"analysis_ready_bench.csv\")"
   ]
  },
  {
   "cell_type": "code",
   "execution_count": null,
   "id": "84be505d",
   "metadata": {},
   "outputs": [
    {
     "data": {
      "application/vnd.jupyter.widget-view+json": {
       "model_id": "baaee67556b2411c89786543de2bc9f5",
       "version_major": 2,
       "version_minor": 0
      },
      "text/plain": [
       "Dropdown(description='Series:', options=('Cup', 'Xfinity', 'Truck'), value='Cup')"
      ]
     },
     "metadata": {},
     "output_type": "display_data"
    },
    {
     "data": {
      "application/vnd.jupyter.widget-view+json": {
       "model_id": "3825a50119c044d380c85b66856bc97b",
       "version_major": 2,
       "version_minor": 0
      },
      "text/plain": [
       "Dropdown(description='Race ID:', options=(5580, 5581, 5582, 5583), value=5580)"
      ]
     },
     "metadata": {},
     "output_type": "display_data"
    }
   ],
   "source": [
    "import ipywidgets as widgets\n",
    "from IPython.display import display\n",
    "\n",
    "series_dropdown = widgets.Dropdown(\n",
    "    options=[\"Cup\", \"Xfinity\", \"Truck\"],\n",
    "    description=\"Series:\"\n",
    ")\n",
    "display(series_dropdown)\n",
    "\n",
    "# to be updtated with full race name dictionary soon for better UX\n",
    "# Xfinity and Truck data not implemented yet, but structure is in place\n",
    "if series_dropdown.value == \"Cup\":\n",
    "    race_id_dropdown = widgets.Dropdown(\n",
    "        options=[5575, 5577, 5578, 5567, 5579, 5581, 5582, 5580],\n",
    "        description=\"Race ID:\"\n",
    "    )\n",
    "    display(race_id_dropdown)\n",
    "\n",
    "elif series_dropdown.value == \"Xfinity\":\n",
    "    race_id_dropdown = widgets.Dropdown(\n",
    "        options=[5580, 5581, 5582, 5583],\n",
    "        description=\"Race ID:\"\n",
    "    )\n",
    "    display(race_id_dropdown)\n",
    "\n",
    "elif series_dropdown.value == \"Truck\":\n",
    "    race_id_dropdown = widgets.Dropdown(\n",
    "        options=[5580, 5581, 5582, 5583],\n",
    "        description=\"Race ID:\"\n",
    "    )\n",
    "    display(race_id_dropdown)\n",
    "\n",
    "else: print(\"An error selecting series occurred.\")"
   ]
  },
  {
   "cell_type": "code",
   "execution_count": 3,
   "id": "aaed2d89",
   "metadata": {},
   "outputs": [
    {
     "name": "stdout",
     "output_type": "stream",
     "text": [
      "Weighted model for race 5583:\n",
      "Average (mean) error: 7.30\n",
      "Median error: 5.00\n",
      "      race_id      driver_fullname  pred_rank_lr  finishing_position\n",
      "1290     5583        William Byron           1.0                12.0\n",
      "303      5583        Tyler Reddick           2.0                 8.0\n",
      "4678     5583          Ryan Blaney           3.0                36.0\n",
      "1006     5583          Kyle Larson           4.0                 1.0\n",
      "1895     5583     Christopher Bell           5.0                29.0\n",
      "1432     5583          Alex Bowman           6.0                 2.0\n",
      "1575     5583         Denny Hamlin           7.0                 5.0\n",
      "1148     5583        Chase Elliott           8.0                18.0\n",
      "1753     5583        Chase Briscoe           9.0                 4.0\n",
      "2954     5583       Chris Buescher          10.0                 6.0\n",
      "127      5583        Bubba Wallace          11.0                 3.0\n",
      "2188     5583      AJ Allmendinger          12.0                 7.0\n",
      "2001     5583             Ty Gibbs          13.0                25.0\n",
      "4820     5583          Joey Logano          14.0                14.0\n",
      "3943     5583       Carson Hocevar          15.0                37.0\n",
      "655      5583           Zane Smith          16.0                11.0\n",
      "4536     5583       Austin Cindric          17.0                19.0\n",
      "2991     5583          Ryan Preece          18.0                 9.0\n",
      "4999     5583        Ross Chastain          19.0                31.0\n",
      "3801     5583     Michael McDowell          20.0                20.0\n",
      "366      5583         Noah Gragson          21.0                16.0\n",
      "5289     5583           Josh Berry          22.0                17.0\n",
      "2580     5583           Erik Jones          23.0                15.0\n",
      "2438     5583     John H. Nemechek          24.0                23.0\n",
      "3275     5583           Kyle Busch          25.0                21.0\n",
      "2834     5583      Brad Keselowski          26.0                26.0\n",
      "3731     5583         Justin Haley          27.0                10.0\n",
      "3133     5583        Austin Dillon          28.0                13.0\n",
      "830      5583   Ricky Stenhouse Jr          29.0                24.0\n",
      "161      5583         Riley Herbst          30.0                33.0\n",
      "5147     5583        Daniel Suárez          31.0                22.0\n",
      "508      5583       Todd Gilliland          32.0                30.0\n",
      "864      5583          Cole Custer          33.0                28.0\n",
      "5037     5583  Shane Van Gisbergen          34.0                32.0\n",
      "2035     5583            Ty Dillon          35.0                27.0\n",
      "3545     5583            Cody Ware          36.0                34.0\n",
      "2722     5583             JJ Yeley          37.0                35.0\n"
     ]
    }
   ],
   "source": [
    "# race_id_to_check = 5580 \n",
    "race_id_to_check = race_id_dropdown.value\n",
    "\n",
    "race_df = df[df[\"race_id\"] == race_id_to_check].copy()\n",
    "\n",
    "# compute absolute error between predicted rank and actual finish\n",
    "race_df[\"abs_error_weighted\"] = (race_df[\"pred_rank_lr\"] - race_df[\"finishing_position\"]).abs()\n",
    "\n",
    "# compute summary metrics\n",
    "mean_error = race_df[\"abs_error_weighted\"].mean()\n",
    "median_error = race_df[\"abs_error_weighted\"].median()\n",
    "\n",
    "print(f\"Weighted model for race {race_id_to_check}:\")\n",
    "print(f\"Average (mean) error: {mean_error:.2f}\")\n",
    "print(f\"Median error: {median_error:.2f}\")\n",
    "\n",
    "# Sort by predicted rank (best at the top)\n",
    "race_df = race_df.sort_values(\"pred_rank_lr\")\n",
    "\n",
    "# Select useful columns to display\n",
    "cols_to_show = [\n",
    "    \"race_id\",\n",
    "    \"driver_fullname\",\n",
    "    # \"team_name\",\n",
    "    # \"weighted_score_lr_flipped\",\n",
    "    \"pred_rank_lr\",\n",
    "    \"finishing_position\"  # actual for comparison\n",
    "]\n",
    "\n",
    "print(race_df[cols_to_show].head(40))\n",
    "# race_df.to_csv(\"race_db.csv\", index=False)"
   ]
  },
  {
   "cell_type": "code",
   "execution_count": 4,
   "id": "f8f78094",
   "metadata": {},
   "outputs": [
    {
     "name": "stdout",
     "output_type": "stream",
     "text": [
      "['finishing_position', 'race_id', 'race_season', 'race_name', 'track_name', 'race_date', 'driver_fullname', 'driver_id', 'car_number', 'team_name', 'car_make', 'crew_chief_fullname', 'finishing_status', 'starting_position', 'BestLapRank', 'OverAllAvgRank', 'finishing_position_lag1_general', 'finishing_position_roll3_general', 'finishing_position_roll5_general', 'finishing_position_roll10_general', 'starting_position_lag1_general', 'starting_position_roll3_general', 'starting_position_roll5_general', 'starting_position_roll10_general', 'points_position_lag1_general', 'points_position_roll3_general', 'points_position_roll5_general', 'points_position_roll10_general', 'stage_1_position_lag1_general', 'stage_1_position_roll3_general', 'stage_1_position_roll5_general', 'stage_1_position_roll10_general', 'stage_2_position_lag1_general', 'stage_2_position_roll3_general', 'stage_2_position_roll5_general', 'stage_2_position_roll10_general', 'mid_ps_lag1_general', 'mid_ps_roll3_general', 'mid_ps_roll5_general', 'mid_ps_roll10_general', 'closing_ps_lag1_general', 'closing_ps_roll3_general', 'closing_ps_roll5_general', 'closing_ps_roll10_general', 'avg_ps_lag1_general', 'avg_ps_roll3_general', 'avg_ps_roll5_general', 'avg_ps_roll10_general', 'BestLapRank_lag1_general', 'BestLapRank_roll3_general', 'BestLapRank_roll5_general', 'BestLapRank_roll10_general', 'OverAllAvgRank_lag1_general', 'OverAllAvgRank_roll3_general', 'OverAllAvgRank_roll5_general', 'OverAllAvgRank_roll10_general', 'laps_completed_lag1_general', 'laps_completed_roll3_general', 'laps_completed_roll5_general', 'laps_completed_roll10_general', 'laps_led_lag1_general', 'laps_led_roll3_general', 'laps_led_roll5_general', 'laps_led_roll10_general', 'points_earned_lag1_general', 'points_earned_roll3_general', 'points_earned_roll5_general', 'points_earned_roll10_general', 'fast_laps_lag1_general', 'fast_laps_roll3_general', 'fast_laps_roll5_general', 'fast_laps_roll10_general', 'top15_laps_lag1_general', 'top15_laps_roll3_general', 'top15_laps_roll5_general', 'top15_laps_roll10_general', 'rating_lag1_general', 'rating_roll3_general', 'rating_roll5_general', 'rating_roll10_general', 'finishing_position_lag1_tracktype', 'finishing_position_roll3_tracktype', 'finishing_position_roll5_tracktype', 'finishing_position_roll10_tracktype', 'starting_position_lag1_tracktype', 'starting_position_roll3_tracktype', 'starting_position_roll5_tracktype', 'starting_position_roll10_tracktype', 'points_position_lag1_tracktype', 'points_position_roll3_tracktype', 'points_position_roll5_tracktype', 'points_position_roll10_tracktype', 'stage_1_position_lag1_tracktype', 'stage_1_position_roll3_tracktype', 'stage_1_position_roll5_tracktype', 'stage_1_position_roll10_tracktype', 'stage_2_position_lag1_tracktype', 'stage_2_position_roll3_tracktype', 'stage_2_position_roll5_tracktype', 'stage_2_position_roll10_tracktype', 'mid_ps_lag1_tracktype', 'mid_ps_roll3_tracktype', 'mid_ps_roll5_tracktype', 'mid_ps_roll10_tracktype', 'closing_ps_lag1_tracktype', 'closing_ps_roll3_tracktype', 'closing_ps_roll5_tracktype', 'closing_ps_roll10_tracktype', 'avg_ps_lag1_tracktype', 'avg_ps_roll3_tracktype', 'avg_ps_roll5_tracktype', 'avg_ps_roll10_tracktype', 'BestLapRank_lag1_tracktype', 'BestLapRank_roll3_tracktype', 'BestLapRank_roll5_tracktype', 'BestLapRank_roll10_tracktype', 'OverAllAvgRank_lag1_tracktype', 'OverAllAvgRank_roll3_tracktype', 'OverAllAvgRank_roll5_tracktype', 'OverAllAvgRank_roll10_tracktype', 'laps_completed_lag1_tracktype', 'laps_completed_roll3_tracktype', 'laps_completed_roll5_tracktype', 'laps_completed_roll10_tracktype', 'laps_led_lag1_tracktype', 'laps_led_roll3_tracktype', 'laps_led_roll5_tracktype', 'laps_led_roll10_tracktype', 'points_earned_lag1_tracktype', 'points_earned_roll3_tracktype', 'points_earned_roll5_tracktype', 'points_earned_roll10_tracktype', 'fast_laps_lag1_tracktype', 'fast_laps_roll3_tracktype', 'fast_laps_roll5_tracktype', 'fast_laps_roll10_tracktype', 'top15_laps_lag1_tracktype', 'top15_laps_roll3_tracktype', 'top15_laps_roll5_tracktype', 'top15_laps_roll10_tracktype', 'rating_lag1_tracktype', 'rating_roll3_tracktype', 'rating_roll5_tracktype', 'rating_roll10_tracktype', 'finishing_position_lag1_track', 'finishing_position_roll3_track', 'finishing_position_roll5_track', 'starting_position_lag1_track', 'starting_position_roll3_track', 'starting_position_roll5_track', 'points_position_lag1_track', 'points_position_roll3_track', 'points_position_roll5_track', 'stage_1_position_lag1_track', 'stage_1_position_roll3_track', 'stage_1_position_roll5_track', 'stage_2_position_lag1_track', 'stage_2_position_roll3_track', 'stage_2_position_roll5_track', 'mid_ps_lag1_track', 'mid_ps_roll3_track', 'mid_ps_roll5_track', 'closing_ps_lag1_track', 'closing_ps_roll3_track', 'closing_ps_roll5_track', 'avg_ps_lag1_track', 'avg_ps_roll3_track', 'avg_ps_roll5_track', 'BestLapRank_lag1_track', 'BestLapRank_roll3_track', 'BestLapRank_roll5_track', 'OverAllAvgRank_lag1_track', 'OverAllAvgRank_roll3_track', 'OverAllAvgRank_roll5_track', 'laps_completed_lag1_track', 'laps_completed_roll3_track', 'laps_completed_roll5_track', 'laps_led_lag1_track', 'laps_led_roll3_track', 'laps_led_roll5_track', 'points_earned_lag1_track', 'points_earned_roll3_track', 'points_earned_roll5_track', 'fast_laps_lag1_track', 'fast_laps_roll3_track', 'fast_laps_roll5_track', 'top15_laps_lag1_track', 'top15_laps_roll3_track', 'top15_laps_roll5_track', 'rating_lag1_track', 'rating_roll3_track', 'rating_roll5_track', 'weighted_score_lr', 'pred_rank_lr', 'track_name_ri', 'pred_finish_ri', 'car_number_ri', 'driver', 'formatted_driver']\n"
     ]
    }
   ],
   "source": [
    "racing_insights_file = DATA_DIR / \"10-20-racing-insights.csv\"\n",
    "racing_insights = pd.read_csv(racing_insights_file)\n",
    "\n",
    "racing_insights[\"race_id\"] = racing_insights[\"race_id\"].astype(df[\"race_id\"].dtype)\n",
    "racing_insights[\"driver_id\"] = racing_insights[\"driver_id\"].astype(df[\"driver_id\"].dtype)\n",
    "\n",
    "df = pd.merge(df, racing_insights, on=[\"race_id\", \"driver_id\"], how=\"outer\", suffixes=(\"\", \"_racing_insights\"))\n",
    "\n",
    "assert df.duplicated(subset=[\"race_id\", \"driver_id\"]).sum() == 0\n",
    "\n",
    "df_2025 = df[df[\"race_season\"] == 2025].copy()\n",
    "\n",
    "print(df_2025.columns.tolist())"
   ]
  },
  {
   "cell_type": "code",
   "execution_count": 5,
   "id": "10f47dec",
   "metadata": {},
   "outputs": [
    {
     "name": "stderr",
     "output_type": "stream",
     "text": [
      "C:\\Users\\joeah\\AppData\\Local\\Temp\\ipykernel_15724\\2115154869.py:27: FutureWarning: DataFrameGroupBy.apply operated on the grouping columns. This behavior is deprecated, and in a future version of pandas the grouping columns will be excluded from the operation. Either pass `include_groups=False` to exclude the groupings or explicitly select the grouping columns after groupby to silence this warning.\n",
      "  .apply(race_spearman_corrs)\n"
     ]
    }
   ],
   "source": [
    "from scipy.stats import spearmanr\n",
    "import numpy as np\n",
    "import pandas as pd\n",
    "\n",
    "def race_spearman_corrs(g):\n",
    "    result = {}\n",
    "    \n",
    "    # Only calculate if we have at least 2 drivers\n",
    "    if g[\"finishing_position\"].nunique() > 1:\n",
    "        # Your model correlation\n",
    "        if g[\"pred_rank_lr\"].nunique() > 1:\n",
    "            result[\"my_model_corr\"] = spearmanr(g[\"pred_rank_lr\"], g[\"finishing_position\"]).correlation\n",
    "        else:\n",
    "            result[\"my_model_corr\"] = np.nan\n",
    "        \n",
    "        # Racing Insights correlation\n",
    "        if g[\"pred_finish_ri\"].nunique() > 1:\n",
    "            result[\"ri_corr\"] = spearmanr(g[\"pred_finish_ri\"], g[\"finishing_position\"]).correlation\n",
    "        else:\n",
    "            result[\"pred_finish_ri\"] = np.nan\n",
    "    \n",
    "    return pd.Series(result)\n",
    "\n",
    "race_corrs_2025 = (\n",
    "    df_2025.dropna(subset=[\"finishing_position\"])\n",
    "    .groupby(\"race_id\")\n",
    "    .apply(race_spearman_corrs)\n",
    ")"
   ]
  },
  {
   "cell_type": "code",
   "execution_count": 6,
   "id": "9430a705",
   "metadata": {},
   "outputs": [
    {
     "name": "stdout",
     "output_type": "stream",
     "text": [
      "Race-by-race Spearman Correlations (2025):\n",
      "         my_model_corr  ri_corr\n",
      "race_id                        \n",
      "5546             0.324    0.208\n",
      "5547             0.180    0.243\n",
      "5548             0.286    0.359\n",
      "5549             0.328    0.403\n",
      "5550             0.663    0.721\n",
      "5551             0.462    0.479\n",
      "5552             0.452    0.441\n",
      "5553             0.664    0.579\n",
      "5554             0.017    0.042\n",
      "5555             0.233    0.301\n",
      "5556             0.610    0.555\n",
      "5557             0.333    0.220\n",
      "5558             0.500    0.427\n",
      "5563             0.265    0.285\n",
      "5564             0.734    0.712\n",
      "5565             0.464    0.451\n",
      "5566             0.710    0.633\n",
      "5567             0.656    0.691\n",
      "5568             0.667    0.665\n",
      "5569             0.391    0.412\n",
      "5570             0.530    0.518\n",
      "5571             0.446    0.413\n",
      "5572             0.339    0.309\n",
      "5573             0.452    0.484\n",
      "5574             0.101    0.099\n",
      "5575             0.547    0.472\n",
      "5576            -0.051   -0.185\n",
      "5577             0.549    0.598\n",
      "5578             0.230    0.227\n",
      "5579             0.547    0.504\n",
      "5580             0.219    0.071\n",
      "5581             0.701    0.691\n",
      "5582             0.444    0.482\n",
      "5583             0.546    0.459\n",
      "\n",
      "Average correlations across 2025:\n",
      "My model: 0.428\n",
      "Racing Insights: 0.411\n"
     ]
    }
   ],
   "source": [
    "print(\"Race-by-race Spearman Correlations (2025):\")\n",
    "print(race_corrs_2025.round(3))\n",
    "\n",
    "print(\"\\nAverage correlations across 2025:\")\n",
    "print(\"My model:\", race_corrs_2025[\"my_model_corr\"].mean().round(3))\n",
    "print(\"Racing Insights:\", race_corrs_2025[\"ri_corr\"].mean().round(3))"
   ]
  },
  {
   "cell_type": "code",
   "execution_count": 7,
   "id": "083f16fb",
   "metadata": {},
   "outputs": [
    {
     "name": "stdout",
     "output_type": "stream",
     "text": [
      "\n",
      "Mean Absolute Error (lower = better):\n",
      "My model: 9.16\n",
      "Racing Insights: 9.29\n"
     ]
    }
   ],
   "source": [
    "df_2025[\"abs_error_my_model\"] = (df_2025[\"pred_rank_lr\"] - df_2025[\"finishing_position\"]).abs()\n",
    "df_2025[\"abs_error_ri\"] = (df_2025[\"pred_finish_ri\"] - df_2025[\"finishing_position\"]).abs()\n",
    "\n",
    "print(\"\\nMean Absolute Error (lower = better):\")\n",
    "print(\"My model:\", df_2025[\"abs_error_my_model\"].mean().round(2))\n",
    "print(\"Racing Insights:\", df_2025[\"abs_error_ri\"].mean().round(2))"
   ]
  }
 ],
 "metadata": {
  "kernelspec": {
   "display_name": "Python 3",
   "language": "python",
   "name": "python3"
  },
  "language_info": {
   "codemirror_mode": {
    "name": "ipython",
    "version": 3
   },
   "file_extension": ".py",
   "mimetype": "text/x-python",
   "name": "python",
   "nbconvert_exporter": "python",
   "pygments_lexer": "ipython3",
   "version": "3.13.4"
  }
 },
 "nbformat": 4,
 "nbformat_minor": 5
}
